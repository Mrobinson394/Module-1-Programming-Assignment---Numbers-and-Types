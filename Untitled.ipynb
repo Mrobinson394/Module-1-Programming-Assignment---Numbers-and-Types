{
 "cells": [
  {
   "cell_type": "code",
   "execution_count": null,
   "id": "87734b5f-7f94-4231-a368-7de86d555384",
   "metadata": {},
   "outputs": [],
   "source": [
    "# 3.1 Calculate the number of seconds in an hour\n",
    "seconds_in_a_minute = 60\n",
    "minutes_in_an_hour = 60\n",
    "seconds_in_an_hour = seconds_in_a_minute * minutes_in_an_hour\n",
    "seconds_in_an_hour\n"
   ]
  },
  {
   "cell_type": "code",
   "execution_count": null,
   "id": "93e644b7-5931-4295-a9fb-1a17395bb64f",
   "metadata": {},
   "outputs": [],
   "source": [
    "# 3.2 Assign the calculated seconds in an hour to a variable\n",
    "seconds_per_hour = seconds_in_an_hour\n",
    "seconds_per_hour\n"
   ]
  },
  {
   "cell_type": "code",
   "execution_count": null,
   "id": "ad4961fb-8888-4dcc-bdad-8780d4c2a5ea",
   "metadata": {},
   "outputs": [],
   "source": [
    "# 3.3 Calculate the number of seconds in a day using seconds_per_hour\n",
    "hours_in_a_day = 24\n",
    "seconds_in_a_day = seconds_per_hour * hours_in_a_day\n",
    "seconds_in_a_day\n"
   ]
  },
  {
   "cell_type": "code",
   "execution_count": null,
   "id": "12ffbbda-b927-45b6-92bb-301407f6c6f6",
   "metadata": {},
   "outputs": [],
   "source": [
    "# 3.4 Save the calculated seconds in a day to a variable\n",
    "seconds_per_day = seconds_in_a_day\n",
    "seconds_per_day\n"
   ]
  },
  {
   "cell_type": "code",
   "execution_count": null,
   "id": "127b0cd3-9cb5-46b7-9694-7b5ec0692cfe",
   "metadata": {},
   "outputs": [],
   "source": [
    "# 3.5 Perform floating-point division to find the number of hours in a day\n",
    "hours_in_a_day_floating_point = seconds_per_day / seconds_per_hour\n",
    "hours_in_a_day_floating_point\n"
   ]
  },
  {
   "cell_type": "code",
   "execution_count": null,
   "id": "2b0c5350-e71d-4bf1-b0c0-fbf8bd971168",
   "metadata": {},
   "outputs": [],
   "source": [
    "# 3.6 Perform integer division to find the number of hours in a day\n",
    "hours_in_a_day_integer = seconds_per_day // seconds_per_hour\n",
    "hours_in_a_day_integer\n"
   ]
  },
  {
   "cell_type": "code",
   "execution_count": null,
   "id": "736f067f-5a47-45de-b2c8-3a7d655bdd66",
   "metadata": {},
   "outputs": [],
   "source": []
  }
 ],
 "metadata": {
  "kernelspec": {
   "display_name": "Python 3 (ipykernel)",
   "language": "python",
   "name": "python3"
  },
  "language_info": {
   "codemirror_mode": {
    "name": "ipython",
    "version": 3
   },
   "file_extension": ".py",
   "mimetype": "text/x-python",
   "name": "python",
   "nbconvert_exporter": "python",
   "pygments_lexer": "ipython3",
   "version": "3.12.4"
  }
 },
 "nbformat": 4,
 "nbformat_minor": 5
}
